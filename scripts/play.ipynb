{
 "cells": [
  {
   "cell_type": "code",
   "execution_count": 1,
   "id": "6a9ea9a0",
   "metadata": {},
   "outputs": [
    {
     "name": "stdout",
     "output_type": "stream",
     "text": [
      "100\n",
      "0.0\n"
     ]
    }
   ],
   "source": [
    "from solitons1d.soliton import Soliton     #First use of Soliton class\n",
    "my_soliton = Soliton(0.1,100)\n",
    "print(my_soliton.lp)\n",
    "my_soliton.compute_energy()   \n",
    "print(my_soliton.energy)"
   ]
  },
  {
   "cell_type": "code",
   "execution_count": 3,
   "id": "1e8303a4",
   "metadata": {},
   "outputs": [],
   "source": [
    "from solitons1d.soliton import Grid      #First use of grid class\n",
    "my_grid = Grid(0.1,200)"
   ]
  },
  {
   "cell_type": "code",
   "execution_count": 2,
   "id": "443d8241",
   "metadata": {},
   "outputs": [],
   "source": [
    "from solitons1d.soliton import Lagrangian  #First use of Lagrangian class\n",
    "import numpy as np\n",
    "\n",
    "def phi4_V(x):\n",
    "    return 0.5*np.pow(1-np.pow(x,2),2)\n",
    "\n",
    "def phi4_dV(x):\n",
    "    return 2*np.pow(x,3) - 2*x\n",
    "\n",
    "phi4_lagrangian = Lagrangian(V=phi4_V, dV=phi4_dV, vacua=[-1,1])"
   ]
  },
  {
   "cell_type": "code",
   "execution_count": 1,
   "id": "39347075",
   "metadata": {},
   "outputs": [
    {
     "name": "stdout",
     "output_type": "stream",
     "text": [
      "0.04817201468100674\n"
     ]
    }
   ],
   "source": [
    "from solitons1d.soliton import Lagrangian, Grid, Soliton   #example code for updated soliton class\n",
    "import numpy as np\n",
    "\n",
    "def phi4_V(x):\n",
    "    return 0.5*np.pow(1-np.pow(x,2),2)\n",
    "\n",
    "def phi4_dV(x):\n",
    "    return 2*np.pow(x,3) - 2*x\n",
    "\n",
    "phi4_lagrangian = Lagrangian(V=phi4_V, dV=phi4_dV, vacua=[-1,1])\n",
    "my_grid = Grid(0.1,20)\n",
    "\n",
    "my_soliton = Soliton(my_grid, phi4_lagrangian, initial_profile_function=np.tanh)\n",
    "\n",
    "#print(my_soliton.profile)\n",
    "my_soliton.compute_energy()\n",
    "print(my_soliton.energy)"
   ]
  }
 ],
 "metadata": {
  "kernelspec": {
   "display_name": ".venv",
   "language": "python",
   "name": "python3"
  },
  "language_info": {
   "codemirror_mode": {
    "name": "ipython",
    "version": 3
   },
   "file_extension": ".py",
   "mimetype": "text/x-python",
   "name": "python",
   "nbconvert_exporter": "python",
   "pygments_lexer": "ipython3",
   "version": "3.13.5"
  }
 },
 "nbformat": 4,
 "nbformat_minor": 5
}
