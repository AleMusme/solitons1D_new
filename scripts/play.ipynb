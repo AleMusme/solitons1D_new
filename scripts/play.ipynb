{
 "cells": [
  {
   "cell_type": "code",
   "execution_count": null,
   "id": "6a9ea9a0",
   "metadata": {
    "vscode": {
     "languageId": "plaintext"
    }
   },
   "outputs": [],
   "source": [
    "from solitons1d.soliton import Soliton     #First use of Soliton class\n",
    "my_soliton = Soliton(0.1,100)\n",
    "print(my_soliton.lp)\n",
    "my_soliton.compute_energy()   \n",
    "print(my_soliton.energy)"
   ]
  },
  {
   "cell_type": "code",
   "execution_count": null,
   "id": "1e8303a4",
   "metadata": {
    "vscode": {
     "languageId": "plaintext"
    }
   },
   "outputs": [],
   "source": [
    "from solitons1d.soliton import Grid      #First use of grid class\n",
    "my_grid = Grid(0.1,200)"
   ]
  }
 ],
 "metadata": {
  "language_info": {
   "name": "python"
  }
 },
 "nbformat": 4,
 "nbformat_minor": 5
}
